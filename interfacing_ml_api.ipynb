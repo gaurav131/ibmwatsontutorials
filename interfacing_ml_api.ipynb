{
    "cells": [
        {
            "cell_type": "markdown",
            "metadata": {},
            "source": "## Getting iam_token\n- get the credential\n- generate iam token"
        },
        {
            "cell_type": "code",
            "execution_count": 1,
            "metadata": {},
            "outputs": [],
            "source": "cred = {\n  \"apikey\": \"Ybh9onH7hicvvaDeqiNu-Ta_Qm3uZ6-OfWSyxaCAtWVO\",\n  \"instance_id\": \"c6f5798b-e1bd-431f-a02d-81bd5e8fba08\",\n  \"url\": \"https://eu-gb.ml.cloud.ibm.com\"\n}"
        },
        {
            "cell_type": "code",
            "execution_count": 2,
            "metadata": {},
            "outputs": [],
            "source": "import requests\n\n# Paste your Watson Machine Learning service apikey here\n# Use the rest of the code sample as written\napikey = cred[\"apikey\"]\n\n# Get an IAM token from IBM Cloud\nurl     = \"https://iam.bluemix.net/oidc/token\"\nheaders = { \"Content-Type\" : \"application/x-www-form-urlencoded\" }\ndata    = \"apikey=\" + apikey + \"&grant_type=urn:ibm:params:oauth:grant-type:apikey\"\nIBM_cloud_IAM_uid = \"bx\"\nIBM_cloud_IAM_pwd = \"bx\"\nresponse  = requests.post( url, headers=headers, data=data, auth=( IBM_cloud_IAM_uid, IBM_cloud_IAM_pwd ) )\niam_token = response.json()[\"access_token\"]"
        },
        {
            "cell_type": "markdown",
            "metadata": {},
            "source": "## Using REST we are fetching the prediction"
        },
        {
            "cell_type": "code",
            "execution_count": 4,
            "metadata": {},
            "outputs": [
                {
                    "name": "stdout",
                    "output_type": "stream",
                    "text": "Scoring response\n{'predictions': [{'fields': ['prediction', 'probability'], 'values': [[1, [0.04004089279108747, 0.9599591072089125]]]}]}\n"
                }
            ],
            "source": "import urllib3, requests, json\n\n# NOTE: generate iam_token and retrieve ml_instance_id based on provided documentation\nml_instance_id = cred[\"instance_id\"]\nheader = {'Content-Type': 'application/json', 'Authorization': 'Bearer ' + iam_token, 'ML-Instance-ID': ml_instance_id}\n# NOTE: manually define and pass the array(s) of values to be scored in the next line\npayload_scoring = {'input_data': [{'fields': ['age', 'sex', 'cp', 'trestbps', 'chol', 'fbs', 'restecg', 'thalach', 'exang', 'oldpeak', 'slope', 'ca', 'thal'], 'values': [[63, 1, 3, 14, 233, 1, 0, 150, 0, 2.3, 0, 0, 1]]}]}\nresponse_scoring = requests.post('https://eu-gb.ml.cloud.ibm.com/v4/deployments/40fc23ac-5921-4360-bd8c-df921dac635a/predictions', json=payload_scoring, headers=header)\nprint(\"Scoring response\")\nprint(json.loads(response_scoring.text))"
        }
    ],
    "metadata": {
        "kernelspec": {
            "display_name": "Python 3.6",
            "language": "python",
            "name": "python3"
        },
        "language_info": {
            "codemirror_mode": {
                "name": "ipython",
                "version": 3
            },
            "file_extension": ".py",
            "mimetype": "text/x-python",
            "name": "python",
            "nbconvert_exporter": "python",
            "pygments_lexer": "ipython3",
            "version": "3.6.9"
        }
    },
    "nbformat": 4,
    "nbformat_minor": 1
}